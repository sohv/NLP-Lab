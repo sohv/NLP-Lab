{
 "cells": [
  {
   "cell_type": "markdown",
   "id": "5b345256-00c2-492e-addf-c2143d551275",
   "metadata": {},
   "source": [
    "# Split word into possible pairs"
   ]
  },
  {
   "cell_type": "code",
   "execution_count": 1,
   "id": "087caed0-6286-484b-b56c-3b5adbed1422",
   "metadata": {},
   "outputs": [],
   "source": [
    "def split_words(word):\n",
    "    pairs=[]\n",
    "    for i in range(1, len(word)):\n",
    "        left = word[:i]\n",
    "        right = word[i:]\n",
    "        pairs.append((left, right))\n",
    "    return pairs"
   ]
  },
  {
   "cell_type": "code",
   "execution_count": 2,
   "id": "da102678-bc64-4625-b764-f0d9793747bb",
   "metadata": {},
   "outputs": [
    {
     "name": "stdout",
     "output_type": "stream",
     "text": [
      "[('c', 'arried'), ('ca', 'rried'), ('car', 'ried'), ('carr', 'ied'), ('carri', 'ed'), ('carrie', 'd')]\n"
     ]
    }
   ],
   "source": [
    "word = \"carried\"\n",
    "pairs = split_words(word)\n",
    "print(pairs)"
   ]
  },
  {
   "cell_type": "markdown",
   "id": "65f5453b-db75-4c5d-8245-72c5d37d38fd",
   "metadata": {},
   "source": [
    "# Generate prefixes and suffixes"
   ]
  },
  {
   "cell_type": "code",
   "execution_count": 3,
   "id": "c0db3070-171e-4b0a-aa39-62da745b636c",
   "metadata": {},
   "outputs": [],
   "source": [
    "prefixes = []\n",
    "suffixes = []\n",
    "def generate(word):\n",
    "    for i in range(1, len(word) + 1):\n",
    "        prefixes.append(word[:i])\n",
    "        suffixes.append(word[i:])\n",
    "    return prefixes, suffixes"
   ]
  },
  {
   "cell_type": "code",
   "execution_count": 4,
   "id": "21d4f3f4-8bdc-4d52-b584-fea77a85ee25",
   "metadata": {},
   "outputs": [
    {
     "name": "stdout",
     "output_type": "stream",
     "text": [
      "Prefixes:  ['c', 'ca', 'car', 'carr', 'carri', 'carrie', 'carried']\n",
      "Suffixes:  ['arried', 'rried', 'ried', 'ied', 'ed', 'd', '']\n"
     ]
    }
   ],
   "source": [
    "word = \"carried\"\n",
    "pre, suf = generate(word)\n",
    "print('Prefixes: ', prefixes)\n",
    "print('Suffixes: ', suffixes)"
   ]
  },
  {
   "cell_type": "markdown",
   "id": "fa6b7e9c-72b4-4b99-8b25-9594f78231a2",
   "metadata": {},
   "source": [
    "# Split text randomly"
   ]
  },
  {
   "cell_type": "code",
   "execution_count": 5,
   "id": "869765bb-cd8b-4940-92c8-59e9a7d6ecfa",
   "metadata": {},
   "outputs": [],
   "source": [
    "import random\n",
    "def splitword(word):\n",
    "    index = random.randint(1, len(word)-1)\n",
    "    part1 = word[:index]\n",
    "    part2 = word[index:]\n",
    "    return part1, part2"
   ]
  },
  {
   "cell_type": "code",
   "execution_count": 6,
   "id": "b3936054-74e6-4e59-a065-fcfefc08a9ba",
   "metadata": {},
   "outputs": [
    {
     "name": "stdout",
     "output_type": "stream",
     "text": [
      "[('car', 'ried'), ('carri', 'ed'), ('carri', 'ed'), ('carrie', 'd'), ('carri', 'ed'), ('carrie', 'd'), ('c', 'arried'), ('car', 'ried'), ('ca', 'rried'), ('car', 'ried')]\n"
     ]
    }
   ],
   "source": [
    "word = \"carried\"\n",
    "all_splits=[]\n",
    "for _ in range(10):\n",
    "    split1, split2 = splitword(word)\n",
    "    all_splits.append((split1, split2))\n",
    "print(all_splits)"
   ]
  },
  {
   "cell_type": "code",
   "execution_count": null,
   "id": "606f2862-e966-4e6d-b220-5200b105888a",
   "metadata": {},
   "outputs": [],
   "source": []
  }
 ],
 "metadata": {
  "kernelspec": {
   "display_name": "Python 3 (ipykernel)",
   "language": "python",
   "name": "python3"
  },
  "language_info": {
   "codemirror_mode": {
    "name": "ipython",
    "version": 3
   },
   "file_extension": ".py",
   "mimetype": "text/x-python",
   "name": "python",
   "nbconvert_exporter": "python",
   "pygments_lexer": "ipython3",
   "version": "3.12.4"
  }
 },
 "nbformat": 4,
 "nbformat_minor": 5
}
