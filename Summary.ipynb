{
 "cells": [
  {
   "cell_type": "code",
   "execution_count": 1,
   "metadata": {
    "colab": {
     "base_uri": "https://localhost:8080/"
    },
    "executionInfo": {
     "elapsed": 20,
     "status": "ok",
     "timestamp": 1743107485500,
     "user": {
      "displayName": "Sohan Venkatesh",
      "userId": "05956613718140576324"
     },
     "user_tz": -330
    },
    "id": "VCM2YTzQS6RU",
    "outputId": "913ee06a-ae3e-4a97-c57a-a930b370ea8f"
   },
   "outputs": [
    {
     "name": "stdout",
     "output_type": "stream",
     "text": [
      "['This', 'example', 'sentence', 'has', 'spaces', 'newlines', 'and', 'punctuation']\n"
     ]
    }
   ],
   "source": [
    "# 1.1 - split the text along spaces and punctuation marks\n",
    "import re\n",
    "\n",
    "def split_text(text):\n",
    "    pattern = r'[\\s\\n\\r\\.,;:?!\\'\"()\\[\\]{}]'\n",
    "    words = re.split(pattern, text)\n",
    "    words = [word for word in words if word]\n",
    "    return words\n",
    "\n",
    "text = \"This example sentence has spaces,newlines, \\n and punctuation !\"\n",
    "words = split_text(text)\n",
    "print(words)"
   ]
  },
  {
   "cell_type": "code",
   "execution_count": 2,
   "metadata": {
    "colab": {
     "base_uri": "https://localhost:8080/"
    },
    "executionInfo": {
     "elapsed": 9,
     "status": "ok",
     "timestamp": 1743107536780,
     "user": {
      "displayName": "Sohan Venkatesh",
      "userId": "05956613718140576324"
     },
     "user_tz": -330
    },
    "id": "JPnMH84_TUbT",
    "outputId": "181b60bd-d6c8-44c8-b818-c34dea327995"
   },
   "outputs": [
    {
     "name": "stdout",
     "output_type": "stream",
     "text": [
      "['25/12/2023', '01/04/2025']\n"
     ]
    }
   ],
   "source": [
    "# 1.2 - extract all dates in format DD-MM-YYYY from text\n",
    "import re\n",
    "\n",
    "def extract(date):\n",
    "    pattern = r'\\b\\d{2}/\\d{2}/\\d{4}\\b'\n",
    "    return re.findall(pattern, date)\n",
    "\n",
    "text = \"Today's date is 25/12/2023 and the next meeting is scheduled at 01/04/2025\"\n",
    "# dates = re.findall(r'\\b\\d{2}/\\d{2}/\\d{4}\\b', text)\n",
    "dates = extract(text)\n",
    "print(dates)"
   ]
  },
  {
   "cell_type": "code",
   "execution_count": 3,
   "metadata": {
    "colab": {
     "base_uri": "https://localhost:8080/"
    },
    "executionInfo": {
     "elapsed": 7,
     "status": "ok",
     "timestamp": 1743107582765,
     "user": {
      "displayName": "Sohan Venkatesh",
      "userId": "05956613718140576324"
     },
     "user_tz": -330
    },
    "id": "ajMBdyjwTjXB",
    "outputId": "31e7c07c-2643-4842-a4e2-70e215c56a63"
   },
   "outputs": [
    {
     "name": "stdout",
     "output_type": "stream",
     "text": [
      "['9600000001', '9179013455']\n"
     ]
    }
   ],
   "source": [
    "# 1.3 - identify all phone numbers in the text\n",
    "import re\n",
    "\n",
    "def phone(text):\n",
    "    # pattern = r\"\\b(?:\\+\\d{1,3}[- ]?)?\\(?\\d{3}\\)?[- ]?\\d{3}[- ]?\\d{4}\\b\"\n",
    "    patterns = r\"\\d{3}[-./s]?\\d{3}[-.\\s]?\\d{4}\"\n",
    "    numbers = re.findall(patterns, text, re.VERBOSE)\n",
    "    return numbers\n",
    "\n",
    "text = \"contact us at 9600000001 or at +9179013455\"\n",
    "phones = phone(text)\n",
    "print(phones)"
   ]
  },
  {
   "cell_type": "code",
   "execution_count": 5,
   "metadata": {
    "colab": {
     "base_uri": "https://localhost:8080/"
    },
    "executionInfo": {
     "elapsed": 18,
     "status": "ok",
     "timestamp": 1743107894993,
     "user": {
      "displayName": "Sohan Venkatesh",
      "userId": "05956613718140576324"
     },
     "user_tz": -330
    },
    "id": "-GsCIP2rTumh",
    "outputId": "eaa556cb-d395-49b3-bc7b-37a9199010a7"
   },
   "outputs": [
    {
     "name": "stdout",
     "output_type": "stream",
     "text": [
      "Modified sentence : Hello World@\n"
     ]
    }
   ],
   "source": [
    "# 2.1 - remove first and last characters if they are not letters or numbers\n",
    "def remove(sentence):\n",
    "    if not sentence:\n",
    "        return sentence\n",
    "    first = sentence[0]\n",
    "    last = sentence[-1]\n",
    "\n",
    "    if not first.isalnum():\n",
    "        sentence = sentence[1:]\n",
    "    if not last.isalnum():\n",
    "        sentence = sentence[:-1]\n",
    "\n",
    "    return sentence\n",
    "\n",
    "sentence = \"!Hello World@#\"\n",
    "modified = remove(sentence)\n",
    "print(\"Modified sentence :\", modified)"
   ]
  },
  {
   "cell_type": "code",
   "execution_count": 6,
   "metadata": {
    "colab": {
     "base_uri": "https://localhost:8080/"
    },
    "executionInfo": {
     "elapsed": 14125,
     "status": "ok",
     "timestamp": 1743107978136,
     "user": {
      "displayName": "Sohan Venkatesh",
      "userId": "05956613718140576324"
     },
     "user_tz": -330
    },
    "id": "qQzVTJtEUy4j",
    "outputId": "8ec00b4e-48a8-466b-b111-3dc20a223fe8"
   },
   "outputs": [
    {
     "name": "stdout",
     "output_type": "stream",
     "text": [
      "Enter a sentence: this is a good boy\n",
      "4\n"
     ]
    }
   ],
   "source": [
    "# 2.2 - count characters that are not letters or numbers\n",
    "import re\n",
    "\n",
    "def count_non_alum(sentence):\n",
    "    return len(re.findall(r'[^a-zA-Z0-9]', sentence))\n",
    "\n",
    "sentence = input(\"Enter a sentence: \")\n",
    "result = count_non_alum(sentence)\n",
    "print(result)"
   ]
  },
  {
   "cell_type": "code",
   "execution_count": 7,
   "metadata": {
    "colab": {
     "base_uri": "https://localhost:8080/"
    },
    "executionInfo": {
     "elapsed": 19613,
     "status": "ok",
     "timestamp": 1743108068863,
     "user": {
      "displayName": "Sohan Venkatesh",
      "userId": "05956613718140576324"
     },
     "user_tz": -330
    },
    "id": "d7Vw5421VLsG",
    "outputId": "2f0941a3-3df3-4312-9a96-e00cbf159819"
   },
   "outputs": [
    {
     "name": "stdout",
     "output_type": "stream",
     "text": [
      "Enter a sentence: this is a boy# with @3 emails\n",
      "Enter a replacement: $\n",
      "this$is$a$boy$$with$$3$emails\n"
     ]
    }
   ],
   "source": [
    "# 2.3 - replace all non-alphanumeric characters with a special character\n",
    "import re\n",
    "\n",
    "def replace_non_alum(sentence, alt):\n",
    "    return re.sub(r'[^a-zA-Z0-9]', alt, sentence)\n",
    "\n",
    "sentence = input(\"Enter a sentence: \")\n",
    "replacement = input(\"Enter a replacement: \")\n",
    "\n",
    "if len(replacement) > 1:\n",
    "    print(\"Replacement should be a single character\")\n",
    "else:\n",
    "    result = replace_non_alum(sentence, replacement)\n",
    "    print(result)"
   ]
  },
  {
   "cell_type": "code",
   "execution_count": 8,
   "metadata": {
    "colab": {
     "base_uri": "https://localhost:8080/"
    },
    "executionInfo": {
     "elapsed": 7,
     "status": "ok",
     "timestamp": 1743108173058,
     "user": {
      "displayName": "Sohan Venkatesh",
      "userId": "05956613718140576324"
     },
     "user_tz": -330
    },
    "id": "YOxZ6CCZVggM",
    "outputId": "b0b347cd-adc4-4c6d-a64e-69b06898f8b8"
   },
   "outputs": [
    {
     "name": "stdout",
     "output_type": "stream",
     "text": [
      "[('c', 'arried'), ('ca', 'rried'), ('car', 'ried'), ('carr', 'ied'), ('carri', 'ed'), ('carrie', 'd')]\n"
     ]
    }
   ],
   "source": [
    "# 3.1 - split a word into pairs at all possible positions\n",
    "def split_words(word):\n",
    "    pairs=[]\n",
    "    for i in range(1, len(word)):\n",
    "        left = word[:i]\n",
    "        right = word[i:]\n",
    "        pairs.append((left, right))\n",
    "    return pairs\n",
    "\n",
    "word = \"carried\"\n",
    "pairs = split_words(word)\n",
    "print(pairs)"
   ]
  },
  {
   "cell_type": "code",
   "execution_count": 9,
   "metadata": {
    "colab": {
     "base_uri": "https://localhost:8080/"
    },
    "executionInfo": {
     "elapsed": 11,
     "status": "ok",
     "timestamp": 1743108220090,
     "user": {
      "displayName": "Sohan Venkatesh",
      "userId": "05956613718140576324"
     },
     "user_tz": -330
    },
    "id": "pSr-DKxvV-sf",
    "outputId": "c8907b62-207d-4c3a-d417-adb833c808ab"
   },
   "outputs": [
    {
     "name": "stdout",
     "output_type": "stream",
     "text": [
      "Prefixes:  ['c', 'ca', 'car', 'carr', 'carri', 'carrie', 'carried']\n",
      "Suffixes:  ['arried', 'rried', 'ried', 'ied', 'ed', 'd', '']\n"
     ]
    }
   ],
   "source": [
    "# 3.2 - generate all possible prefixes and suffixes of a given word\n",
    "\n",
    "prefixes = []\n",
    "suffixes = []\n",
    "def generate(word):\n",
    "    for i in range(1, len(word) + 1):\n",
    "        prefixes.append(word[:i])\n",
    "        suffixes.append(word[i:])\n",
    "    return prefixes, suffixes\n",
    "\n",
    "word = \"carried\"\n",
    "pre, suf = generate(word)\n",
    "print('Prefixes: ', prefixes)\n",
    "print('Suffixes: ', suffixes)"
   ]
  },
  {
   "cell_type": "code",
   "execution_count": 11,
   "metadata": {
    "colab": {
     "base_uri": "https://localhost:8080/"
    },
    "executionInfo": {
     "elapsed": 11,
     "status": "ok",
     "timestamp": 1743108273275,
     "user": {
      "displayName": "Sohan Venkatesh",
      "userId": "05956613718140576324"
     },
     "user_tz": -330
    },
    "id": "sKElkxNUWKNf",
    "outputId": "fb09d393-3941-427e-8ec7-5c625e7375a7"
   },
   "outputs": [
    {
     "name": "stdout",
     "output_type": "stream",
     "text": [
      "[('carri', 'ed'), ('ca', 'rried'), ('carri', 'ed'), ('car', 'ried'), ('carri', 'ed'), ('car', 'ried'), ('ca', 'rried'), ('carri', 'ed'), ('carrie', 'd'), ('c', 'arried')]\n"
     ]
    }
   ],
   "source": [
    "# 3.3 - split a word into two parts at random positions and print them\n",
    "import random\n",
    "def splitword(word):\n",
    "    index = random.randint(1, len(word)-1)\n",
    "    part1 = word[:index]\n",
    "    part2 = word[index:]\n",
    "    return part1, part2\n",
    "\n",
    "word = \"carried\"\n",
    "all_splits=[]\n",
    "for _ in range(10):\n",
    "    split1, split2 = splitword(word)\n",
    "    all_splits.append((split1, split2))\n",
    "print(all_splits)"
   ]
  },
  {
   "cell_type": "code",
   "execution_count": 21,
   "metadata": {
    "colab": {
     "base_uri": "https://localhost:8080/"
    },
    "executionInfo": {
     "elapsed": 16,
     "status": "ok",
     "timestamp": 1743108433767,
     "user": {
      "displayName": "Sohan Venkatesh",
      "userId": "05956613718140576324"
     },
     "user_tz": -330
    },
    "id": "Zf2rl4U4WTxu",
    "outputId": "f986a051-60a7-45dc-c236-d5629f7c4dac"
   },
   "outputs": [
    {
     "name": "stdout",
     "output_type": "stream",
     "text": [
      "('the', 'cat'): 3\n",
      "('cat', 'chased'): 1\n",
      "('chased', 'the'): 1\n",
      "('cat', 'but'): 1\n",
      "('but', 'the'): 1\n",
      "('the', 'mouse'): 1\n",
      "('mouse', 'ran'): 1\n",
      "('ran', 'away'): 1\n",
      "('away', 'from'): 1\n",
      "('from', 'the'): 1\n"
     ]
    }
   ],
   "source": [
    "# 4.1 - find the frequencies of distinct words using n-grams\n",
    "from collections import Counter\n",
    "from nltk.util import ngrams\n",
    "\n",
    "def get_ngram_frequencies(sentence, n):\n",
    "    words = sentence.split()\n",
    "    n_grams = list(ngrams(words, n))\n",
    "    frequencies = Counter(n_grams)\n",
    "    return frequencies\n",
    "\n",
    "sentence = \"the cat chased the cat but the mouse ran away from the cat\"\n",
    "n = 2\n",
    "\n",
    "frequencies = get_ngram_frequencies(sentence, n)\n",
    "\n",
    "for ngram, freq in frequencies.items():\n",
    "    print(f\"{ngram}: {freq}\")"
   ]
  },
  {
   "cell_type": "code",
   "execution_count": 23,
   "metadata": {
    "colab": {
     "base_uri": "https://localhost:8080/"
    },
    "executionInfo": {
     "elapsed": 8,
     "status": "ok",
     "timestamp": 1743108497787,
     "user": {
      "displayName": "Sohan Venkatesh",
      "userId": "05956613718140576324"
     },
     "user_tz": -330
    },
    "id": "pyzW0NAaWk_d",
    "outputId": "11d03a71-1ef3-4875-9c09-ab614eb3fc7b"
   },
   "outputs": [
    {
     "name": "stdout",
     "output_type": "stream",
     "text": [
      "('the', 'cat'): 0.2500\n",
      "('cat', 'chased'): 0.0833\n",
      "('chased', 'the'): 0.0833\n",
      "('cat', 'but'): 0.0833\n",
      "('but', 'the'): 0.0833\n",
      "('the', 'mouse'): 0.0833\n",
      "('mouse', 'ran'): 0.0833\n",
      "('ran', 'away'): 0.0833\n",
      "('away', 'from'): 0.0833\n",
      "('from', 'the'): 0.0833\n"
     ]
    }
   ],
   "source": [
    "# 4.2 - calculate the probabilities of each n-gram in sentence\n",
    "from collections import Counter\n",
    "from nltk.util import ngrams\n",
    "\n",
    "def get_ngram_probabilities(sentence, n):\n",
    "    words = sentence.split()\n",
    "    n_grams = list(ngrams(words, n))\n",
    "    frequencies = Counter(n_grams)\n",
    "    total_ngrams = sum(frequencies.values())\n",
    "    probabilities = {ngram: freq / total_ngrams for ngram, freq in frequencies.items()}\n",
    "    return probabilities\n",
    "\n",
    "sentence = \"the cat chased the cat but the mouse ran away from the cat\"\n",
    "n = 2\n",
    "\n",
    "probabilities = get_ngram_probabilities(sentence, n)\n",
    "\n",
    "for ngram, prob in probabilities.items():\n",
    "    print(f\"{ngram}: {prob:.4f}\")"
   ]
  },
  {
   "cell_type": "code",
   "execution_count": 24,
   "metadata": {
    "colab": {
     "base_uri": "https://localhost:8080/"
    },
    "executionInfo": {
     "elapsed": 15,
     "status": "ok",
     "timestamp": 1743108531708,
     "user": {
      "displayName": "Sohan Venkatesh",
      "userId": "05956613718140576324"
     },
     "user_tz": -330
    },
    "id": "pFWucp_zXKI3",
    "outputId": "c1a19943-6b78-4c6e-f7f9-757006b46db3"
   },
   "outputs": [
    {
     "name": "stdout",
     "output_type": "stream",
     "text": [
      "('sentence', 'test')\n",
      "('test', 'another')\n",
      "('another', 'is')\n",
      "('is', 'this')\n",
      "('this', 'and')\n",
      "('and', 'sentence')\n",
      "('sentence', 'test')\n",
      "('test', 'a')\n",
      "('a', 'is')\n",
      "('is', 'this')\n"
     ]
    }
   ],
   "source": [
    "# 4.3 - generate n-grams in reverse order\n",
    "from collections import Counter\n",
    "from nltk.util import ngrams\n",
    "\n",
    "def get_reverse_ngrams(sentence, n):\n",
    "    words = sentence.split()[::-1]  # Reverse the word order\n",
    "    n_grams = list(ngrams(words, n))\n",
    "    return n_grams\n",
    "\n",
    "sentence = \"this is a test sentence and this is another test sentence\"\n",
    "n = 2\n",
    "\n",
    "reverse_ngrams = get_reverse_ngrams(sentence, n)\n",
    "\n",
    "for ngram in reverse_ngrams:\n",
    "    print(ngram)"
   ]
  },
  {
   "cell_type": "code",
   "execution_count": 25,
   "metadata": {
    "colab": {
     "base_uri": "https://localhost:8080/"
    },
    "executionInfo": {
     "elapsed": 5,
     "status": "ok",
     "timestamp": 1743108579955,
     "user": {
      "displayName": "Sohan Venkatesh",
      "userId": "05956613718140576324"
     },
     "user_tz": -330
    },
    "id": "06U6Y44SXWSc",
    "outputId": "19314e63-f6de-4842-f770-e89568b0bb4a"
   },
   "outputs": [
    {
     "name": "stdout",
     "output_type": "stream",
     "text": [
      "Original Sentence: This is a test sentence with numbers 123 and 4567 in it.\n",
      "Cleaned Sentence: This is a test sentence with numbers  and  in it.\n"
     ]
    }
   ],
   "source": [
    "# 5.1 - remove digits from a sentence using greedy tokenizer\n",
    "import re\n",
    "\n",
    "def remove_digits(sentence):\n",
    "    cleaned_sentence = re.sub(r'\\d+', '', sentence)\n",
    "    return cleaned_sentence\n",
    "\n",
    "sentence = \"This is a test sentence with numbers 123 and 4567 in it.\"\n",
    "cleaned_sentence = remove_digits(sentence)\n",
    "\n",
    "print(\"Original Sentence:\", sentence)\n",
    "print(\"Cleaned Sentence:\", cleaned_sentence)"
   ]
  },
  {
   "cell_type": "code",
   "execution_count": 26,
   "metadata": {
    "colab": {
     "base_uri": "https://localhost:8080/"
    },
    "executionInfo": {
     "elapsed": 19,
     "status": "ok",
     "timestamp": 1743108630522,
     "user": {
      "displayName": "Sohan Venkatesh",
      "userId": "05956613718140576324"
     },
     "user_tz": -330
    },
    "id": "xUM4LLhaXiEf",
    "outputId": "6e35e0ac-3e09-4c92-c391-3f1a821f60c7"
   },
   "outputs": [
    {
     "name": "stdout",
     "output_type": "stream",
     "text": [
      "Original Sentence: This is a test sentence with numbers 123 and 4567 in it.\n",
      "Cleaned Sentence: This is a test sentence with numbers and in it.\n"
     ]
    }
   ],
   "source": [
    "# 5.1 (2) - remove extra spaces in cleaned sentence\n",
    "import re\n",
    "\n",
    "def remove_digits(sentence):\n",
    "    cleaned_sentence = re.sub(r'\\d+', '', sentence)\n",
    "    cleaned_sentence = re.sub(r'\\s+', ' ', cleaned_sentence)\n",
    "    cleaned_sentence = cleaned_sentence.strip()\n",
    "    return cleaned_sentence\n",
    "\n",
    "sentence = \"This is a test sentence with numbers 123 and 4567 in it.\"\n",
    "cleaned_sentence = remove_digits(sentence)\n",
    "\n",
    "print(\"Original Sentence:\", sentence)\n",
    "print(\"Cleaned Sentence:\", cleaned_sentence)"
   ]
  },
  {
   "cell_type": "code",
   "execution_count": 27,
   "metadata": {
    "colab": {
     "base_uri": "https://localhost:8080/"
    },
    "executionInfo": {
     "elapsed": 11,
     "status": "ok",
     "timestamp": 1743108667282,
     "user": {
      "displayName": "Sohan Venkatesh",
      "userId": "05956613718140576324"
     },
     "user_tz": -330
    },
    "id": "zJF2xWc5XuaU",
    "outputId": "20272b82-7b71-4686-e8ae-50212d063f83"
   },
   "outputs": [
    {
     "name": "stdout",
     "output_type": "stream",
     "text": [
      "Original Sentence: This is a test sentence with numbers 123 and 4567 in it.\n",
      "Number of digits in the sentence: 7\n"
     ]
    }
   ],
   "source": [
    "# 5.2 - count number of digits in a given sentence\n",
    "import re\n",
    "\n",
    "def count_digits(sentence):\n",
    "    digit_count = len(re.findall(r'\\d', sentence))  # Count all digit occurrences\n",
    "    return digit_count\n",
    "\n",
    "sentence = \"This is a test sentence with numbers 123 and 4567 in it.\"\n",
    "digit_count = count_digits(sentence)\n",
    "\n",
    "print(\"Original Sentence:\", sentence)\n",
    "print(\"Number of digits in the sentence:\", digit_count)"
   ]
  },
  {
   "cell_type": "code",
   "execution_count": 28,
   "metadata": {
    "colab": {
     "base_uri": "https://localhost:8080/"
    },
    "executionInfo": {
     "elapsed": 7,
     "status": "ok",
     "timestamp": 1743108707237,
     "user": {
      "displayName": "Sohan Venkatesh",
      "userId": "05956613718140576324"
     },
     "user_tz": -330
    },
    "id": "wu2j-BrJX3Yp",
    "outputId": "adae8d02-d5d0-4c48-b87f-2a5debff74bd"
   },
   "outputs": [
    {
     "name": "stdout",
     "output_type": "stream",
     "text": [
      "Original Sentence: This is a test sentence with numbers 1 123 and 4567 in it.\n",
      "Extracted Digits: ['1', '123', '4567']\n"
     ]
    }
   ],
   "source": [
    "# 5.3 - extract and print all digits from a sentence using greedy tokenizer\n",
    "import re\n",
    "\n",
    "def extract_digits(sentence):\n",
    "    digits = re.findall(r'\\d+', sentence)\n",
    "    return digits\n",
    "\n",
    "sentence = \"This is a test sentence with numbers 1 123 and 4567 in it.\"\n",
    "digits = extract_digits(sentence)\n",
    "\n",
    "print(\"Original Sentence:\", sentence)\n",
    "print(\"Extracted Digits:\", digits)"
   ]
  },
  {
   "cell_type": "code",
   "execution_count": 1,
   "metadata": {
    "colab": {
     "base_uri": "https://localhost:8080/"
    },
    "executionInfo": {
     "elapsed": 12,
     "status": "ok",
     "timestamp": 1743108753123,
     "user": {
      "displayName": "Sohan Venkatesh",
      "userId": "05956613718140576324"
     },
     "user_tz": -330
    },
    "id": "GhMDKpskYBIB",
    "outputId": "345f9e87-331a-4a7d-afa7-51c0c6ba4797"
   },
   "outputs": [
    {
     "name": "stdout",
     "output_type": "stream",
     "text": [
      "Tokenized Sentence: ['Please call me at ', 'abc@xyz.com', ' before ', '12/31/2025', '.']\n"
     ]
    }
   ],
   "source": [
    "# 5.4 - program that greedily tokenizes a sentence but prioritizes specific patterns\n",
    "import re\n",
    "\n",
    "def greedy_tokenizer(sentence):\n",
    "    pattern = r'(\\d{1,2}/\\d{1,2}/\\d{2,4})|([a-zA-Z0-9._%+-]+@[a-zA-Z0-9.-]+\\.[a-zA-Z]{2,})'\n",
    "    matches = re.findall(pattern, sentence)\n",
    "    tokens = []\n",
    "    last_index = 0\n",
    "\n",
    "    for match in matches:\n",
    "        match_text = next(filter(None, match))\n",
    "        start_index = sentence.find(match_text, last_index)\n",
    "        if start_index > last_index:\n",
    "            tokens.append(sentence[last_index:start_index])\n",
    "        tokens.append(match_text)\n",
    "        last_index = start_index + len(match_text)\n",
    "\n",
    "    if last_index < len(sentence):\n",
    "        tokens.append(sentence[last_index:])\n",
    "\n",
    "    return tokens\n",
    "\n",
    "sentence = \"Please call me at abc@xyz.com before 12/31/2025.\"\n",
    "tokens = greedy_tokenizer(sentence)\n",
    "\n",
    "print(\"Tokenized Sentence:\", tokens)"
   ]
  },
  {
   "cell_type": "code",
   "execution_count": null,
   "metadata": {
    "id": "8XgJHOKAYMVx"
   },
   "outputs": [],
   "source": []
  }
 ],
 "metadata": {
  "colab": {
   "authorship_tag": "ABX9TyOUcY2hYfPH+x1fZZzU+CJg",
   "provenance": []
  },
  "kernelspec": {
   "display_name": "Python 3",
   "name": "python3"
  },
  "language_info": {
   "codemirror_mode": {
    "name": "ipython",
    "version": 3
   },
   "file_extension": ".py",
   "mimetype": "text/x-python",
   "name": "python",
   "nbconvert_exporter": "python",
   "pygments_lexer": "ipython3",
   "version": "3.12.4"
  }
 },
 "nbformat": 4,
 "nbformat_minor": 0
}
