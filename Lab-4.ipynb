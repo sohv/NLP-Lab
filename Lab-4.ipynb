{
 "cells": [
  {
   "cell_type": "markdown",
   "metadata": {},
   "source": [
    "# Find the frequencies of distinct words using n-grams"
   ]
  },
  {
   "cell_type": "code",
   "execution_count": 1,
   "metadata": {},
   "outputs": [
    {
     "name": "stdout",
     "output_type": "stream",
     "text": [
      "('this', 'is'): 2\n",
      "('is', 'a'): 1\n",
      "('a', 'test'): 1\n",
      "('test', 'sentence'): 2\n",
      "('sentence', 'and'): 1\n",
      "('and', 'this'): 1\n",
      "('is', 'another'): 1\n",
      "('another', 'test'): 1\n"
     ]
    }
   ],
   "source": [
    "from collections import Counter\n",
    "from nltk.util import ngrams\n",
    "\n",
    "def get_ngram_frequencies(sentence, n):\n",
    "    words = sentence.split()\n",
    "    n_grams = list(ngrams(words, n))\n",
    "    frequencies = Counter(n_grams)\n",
    "    return frequencies\n",
    "\n",
    "# Example usage\n",
    "sentence = \"this is a test sentence and this is another test sentence\"\n",
    "n = 2  # Change n to generate different n-grams\n",
    "\n",
    "frequencies = get_ngram_frequencies(sentence, n)\n",
    "\n",
    "# Displaying output\n",
    "for ngram, freq in frequencies.items():\n",
    "    print(f\"{ngram}: {freq}\")"
   ]
  },
  {
   "cell_type": "markdown",
   "metadata": {},
   "source": [
    "# Calculate the probabilities of n-grams in the sentence"
   ]
  },
  {
   "cell_type": "code",
   "execution_count": 6,
   "metadata": {},
   "outputs": [
    {
     "name": "stdout",
     "output_type": "stream",
     "text": [
      "('this', 'is'): 0.1000\n",
      "('is', 'a'): 0.1000\n",
      "('a', 'test'): 0.2000\n",
      "('test', 'sentence'): 0.1000\n",
      "('sentence', 'and'): 0.1000\n",
      "('and', 'he'): 0.1000\n",
      "('he', 'has'): 0.1000\n",
      "('has', 'a'): 0.1000\n",
      "('test', 'now'): 0.1000\n"
     ]
    }
   ],
   "source": [
    "from collections import Counter\n",
    "from nltk.util import ngrams\n",
    "\n",
    "def get_ngram_probabilities(sentence, n):\n",
    "    words = sentence.split()\n",
    "    n_grams = list(ngrams(words, n))\n",
    "    frequencies = Counter(n_grams)\n",
    "    total_ngrams = sum(frequencies.values())\n",
    "    probabilities = {ngram: freq / total_ngrams for ngram, freq in frequencies.items()}\n",
    "    return probabilities\n",
    "\n",
    "# Example usage\n",
    "sentence = \"this is a test sentence and he has a test now\"\n",
    "n = 2 # Change n to generate different n-grams\n",
    "\n",
    "probabilities = get_ngram_probabilities(sentence, n)\n",
    "\n",
    "# Displaying output\n",
    "for ngram, prob in probabilities.items():\n",
    "    print(f\"{ngram}: {prob:.4f}\")"
   ]
  },
  {
   "cell_type": "markdown",
   "metadata": {},
   "source": [
    "# Generate n-grams in reverse order"
   ]
  },
  {
   "cell_type": "code",
   "execution_count": 7,
   "metadata": {},
   "outputs": [
    {
     "name": "stdout",
     "output_type": "stream",
     "text": [
      "('sentence', 'test')\n",
      "('test', 'another')\n",
      "('another', 'is')\n",
      "('is', 'this')\n",
      "('this', 'and')\n",
      "('and', 'sentence')\n",
      "('sentence', 'test')\n",
      "('test', 'a')\n",
      "('a', 'is')\n",
      "('is', 'this')\n"
     ]
    }
   ],
   "source": [
    "from collections import Counter\n",
    "from nltk.util import ngrams\n",
    "\n",
    "def get_reverse_ngrams(sentence, n):\n",
    "    words = sentence.split()[::-1]  # Reverse the word order\n",
    "    n_grams = list(ngrams(words, n))\n",
    "    return n_grams\n",
    "\n",
    "# Example usage\n",
    "sentence = \"this is a test sentence and this is another test sentence\"\n",
    "n = 2  # Change n to generate different n-grams\n",
    "\n",
    "reverse_ngrams = get_reverse_ngrams(sentence, n)\n",
    "\n",
    "# Displaying output\n",
    "for ngram in reverse_ngrams:\n",
    "    print(ngram)"
   ]
  },
  {
   "cell_type": "code",
   "execution_count": null,
   "metadata": {},
   "outputs": [],
   "source": []
  }
 ],
 "metadata": {
  "kernelspec": {
   "display_name": "Python 3",
   "language": "python",
   "name": "python3"
  },
  "language_info": {
   "codemirror_mode": {
    "name": "ipython",
    "version": 3
   },
   "file_extension": ".py",
   "mimetype": "text/x-python",
   "name": "python",
   "nbconvert_exporter": "python",
   "pygments_lexer": "ipython3",
   "version": "3.12.4"
  }
 },
 "nbformat": 4,
 "nbformat_minor": 2
}
