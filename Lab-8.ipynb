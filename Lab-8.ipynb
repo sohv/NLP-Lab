{
  "cells": [
    {
      "cell_type": "code",
      "execution_count": 6,
      "metadata": {
        "colab": {
          "base_uri": "https://localhost:8080/"
        },
        "id": "NiAk171q28C6",
        "outputId": "dfa0124d-e455-4c57-af44-9d712cda9a70"
      },
      "outputs": [
        {
          "name": "stdout",
          "output_type": "stream",
          "text": [
            "Original Sentence: OMG, u r so happy :D!!! I am sad :( and crying :'( lol :)\n",
            "Normalized Sentence: oh my god, you are so happy grinning face! I am sad sad face and crying crying face laughing out loud smiling face\n"
          ]
        }
      ],
      "source": [
        "import re\n",
        "\n",
        "slang_dict = {\n",
        "    \"u\": \"you\",\n",
        "    \"r\": \"are\",\n",
        "    \"lol\": \"laughing out loud\",\n",
        "    \"brb\": \"be right back\",\n",
        "    \"omg\": \"oh my god\"\n",
        "}\n",
        "\n",
        "emoticon_dict = {\n",
        "    \":)\": \"smiling face\",\n",
        "    \":(\": \"sad face\",\n",
        "    \":D\": \"grinning face\",\n",
        "    \";)\": \"winking face\",\n",
        "    \":'(\": \"crying face\"\n",
        "}\n",
        "\n",
        "def normalize_text(text):\n",
        "    for slang, formal in slang_dict.items():\n",
        "        text = re.sub(r'\\b' + slang + r'\\b', formal, text, flags=re.IGNORECASE)\n",
        "    \n",
        "    for emoticon, description in emoticon_dict.items():\n",
        "        text = text.replace(emoticon, description)\n",
        "\n",
        "    text = re.sub(r'([!?.])\\1+', r'\\1', text)\n",
        "    \n",
        "    text = re.sub(r'\\s+', ' ', text).strip()\n",
        "\n",
        "    return text\n",
        "\n",
        "test_sentence = \"OMG, u r so happy :D!!! I am sad :( and crying :'( lol :)\"\n",
        "normalized_text = normalize_text(test_sentence)\n",
        "\n",
        "print(\"Original Sentence:\", test_sentence)\n",
        "print(\"Normalized Sentence:\", normalized_text)"
      ]
    },
    {
      "cell_type": "markdown",
      "metadata": {},
      "source": [
        "# Program to normalize a sentence and replace slangs with their meanings"
      ]
    },
    {
      "cell_type": "code",
      "execution_count": 8,
      "metadata": {
        "colab": {
          "base_uri": "https://localhost:8080/"
        },
        "id": "oQkrjpB05GQk",
        "outputId": "2cf97aca-4fc1-493d-f068-24e18c2c486c"
      },
      "outputs": [
        {
          "name": "stdout",
          "output_type": "stream",
          "text": [
            "Original Sentence: OMG!!! u r so funny, lol! brb, I will be back soon!\n",
            "Processed Sentence: oh my god! you are so funny, laughing out loud! be right back, i will be back soon!\n"
          ]
        }
      ],
      "source": [
        "import re\n",
        "\n",
        "slang_dict = {\n",
        "    \"u\": \"you\",\n",
        "    \"r\": \"are\",\n",
        "    \"lol\": \"laughing out loud\",\n",
        "    \"brb\": \"be right back\",\n",
        "    \"omg\": \"oh my god\"\n",
        "}\n",
        "\n",
        "def process_text(text):\n",
        "    for slang, full_word in slang_dict.items():\n",
        "        text = re.sub(r'\\b' + slang + r'\\b', full_word, text, flags=re.IGNORECASE)\n",
        "    \n",
        "    text = re.sub(r'([!?.])\\1+', r'\\1', text)\n",
        "    \n",
        "    text = text.lower()\n",
        "\n",
        "    return text\n",
        "\n",
        "test_sentence = \"OMG!!! u r so funny, lol! brb, I will be back soon!\"\n",
        "processed_text = process_text(test_sentence)\n",
        "\n",
        "print(\"Original Sentence:\", test_sentence)\n",
        "print(\"Processed Sentence:\", processed_text)"
      ]
    },
    {
      "cell_type": "code",
      "execution_count": null,
      "metadata": {
        "id": "KVaGldyJ5hwJ"
      },
      "outputs": [],
      "source": []
    }
  ],
  "metadata": {
    "colab": {
      "provenance": []
    },
    "kernelspec": {
      "display_name": "Python 3",
      "name": "python3"
    },
    "language_info": {
      "codemirror_mode": {
        "name": "ipython",
        "version": 3
      },
      "file_extension": ".py",
      "mimetype": "text/x-python",
      "name": "python",
      "nbconvert_exporter": "python",
      "pygments_lexer": "ipython3",
      "version": "3.12.4"
    }
  },
  "nbformat": 4,
  "nbformat_minor": 0
}
