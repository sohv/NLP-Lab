{
 "cells": [
  {
   "cell_type": "markdown",
   "metadata": {},
   "source": [
    "# Remove digits from a sentence using greedy tokenizer"
   ]
  },
  {
   "cell_type": "code",
   "execution_count": 1,
   "metadata": {},
   "outputs": [
    {
     "name": "stdout",
     "output_type": "stream",
     "text": [
      "Original Sentence: This is a test sentence with numbers 123 and 4567 in it.\n",
      "Cleaned Sentence: This is a test sentence with numbers  and  in it.\n"
     ]
    }
   ],
   "source": [
    "import re\n",
    "\n",
    "def remove_digits(sentence):\n",
    "    cleaned_sentence = re.sub(r'\\d+', '', sentence)  # Remove all digits\n",
    "    return cleaned_sentence\n",
    "\n",
    "# Example usage\n",
    "sentence = \"This is a test sentence with numbers 123 and 4567 in it.\"\n",
    "cleaned_sentence = remove_digits(sentence)\n",
    "\n",
    "# Displaying output\n",
    "print(\"Original Sentence:\", sentence)\n",
    "print(\"Cleaned Sentence:\", cleaned_sentence)"
   ]
  },
  {
   "cell_type": "markdown",
   "metadata": {},
   "source": [
    "## (referring to previous program) Remove extra spaces in cleaned sentence"
   ]
  },
  {
   "cell_type": "code",
   "execution_count": 2,
   "metadata": {},
   "outputs": [
    {
     "name": "stdout",
     "output_type": "stream",
     "text": [
      "Original Sentence: This is a test sentence with numbers 123 and 4567 in it.\n",
      "Cleaned Sentence: This is a test sentence with numbers and in it.\n"
     ]
    }
   ],
   "source": [
    "import re\n",
    "\n",
    "def remove_digits(sentence):\n",
    "    # Remove all digits and replace multiple spaces with a single one\n",
    "    cleaned_sentence = re.sub(r'\\d+', '', sentence)  # Remove all digits\n",
    "    cleaned_sentence = re.sub(r'\\s+', ' ', cleaned_sentence)  # Replace multiple spaces with one\n",
    "    cleaned_sentence = cleaned_sentence.strip()  # Remove leading/trailing spaces\n",
    "    return cleaned_sentence\n",
    "\n",
    "# Example usage\n",
    "sentence = \"This is a test sentence with numbers 123 and 4567 in it.\"\n",
    "cleaned_sentence = remove_digits(sentence)\n",
    "\n",
    "# Displaying output\n",
    "print(\"Original Sentence:\", sentence)\n",
    "print(\"Cleaned Sentence:\", cleaned_sentence)"
   ]
  },
  {
   "cell_type": "markdown",
   "metadata": {},
   "source": [
    "# Count digits in a given sentence"
   ]
  },
  {
   "cell_type": "code",
   "execution_count": 3,
   "metadata": {},
   "outputs": [
    {
     "name": "stdout",
     "output_type": "stream",
     "text": [
      "Original Sentence: This is a test sentence with numbers 123 and 4567 in it.\n",
      "Number of digits in the sentence: 7\n"
     ]
    }
   ],
   "source": [
    "import re\n",
    "\n",
    "def count_digits(sentence):\n",
    "    digit_count = len(re.findall(r'\\d', sentence))  # Count all digit occurrences\n",
    "    return digit_count\n",
    "\n",
    "# Example usage\n",
    "sentence = \"This is a test sentence with numbers 123 and 4567 in it.\"\n",
    "digit_count = count_digits(sentence)\n",
    "\n",
    "# Displaying output\n",
    "print(\"Original Sentence:\", sentence)\n",
    "print(\"Number of digits in the sentence:\", digit_count)"
   ]
  },
  {
   "cell_type": "markdown",
   "metadata": {},
   "source": [
    "# Extract and print all digits from a sentence"
   ]
  },
  {
   "cell_type": "code",
   "execution_count": 4,
   "metadata": {},
   "outputs": [
    {
     "name": "stdout",
     "output_type": "stream",
     "text": [
      "Original Sentence: This is a test sentence with numbers 1 123 and 4567 in it.\n",
      "Extracted Digits: ['1', '123', '4567']\n"
     ]
    }
   ],
   "source": [
    "import re\n",
    "\n",
    "def extract_digits(sentence):\n",
    "    digits = re.findall(r'\\d+', sentence)  # Extract all digit sequences\n",
    "    return digits\n",
    "\n",
    "# Example usage\n",
    "sentence = \"This is a test sentence with numbers 1 123 and 4567 in it.\"\n",
    "digits = extract_digits(sentence)\n",
    "\n",
    "# Displaying output\n",
    "print(\"Original Sentence:\", sentence)\n",
    "print(\"Extracted Digits:\", digits)"
   ]
  },
  {
   "cell_type": "markdown",
   "metadata": {},
   "source": [
    "# Program to greedily tokenize a sentence and prioritize certain patterns"
   ]
  },
  {
   "cell_type": "code",
   "execution_count": 7,
   "metadata": {},
   "outputs": [
    {
     "name": "stdout",
     "output_type": "stream",
     "text": [
      "Tokenized Sentence: ['Please call me at ', 'abc@xyz.com', ' before ', '12/31/2025', '.']\n"
     ]
    }
   ],
   "source": [
    "import re\n",
    "\n",
    "def greedy_tokenizer(sentence):\n",
    "    pattern = r'(\\d{1,2}/\\d{1,2}/\\d{2,4})|([a-zA-Z0-9._%+-]+@[a-zA-Z0-9.-]+\\.[a-zA-Z]{2,})'\n",
    "    matches = re.findall(pattern, sentence)\n",
    "    tokens = []\n",
    "    last_index = 0\n",
    "    \n",
    "    for match in matches:\n",
    "        match_text = next(filter(None, match))\n",
    "        start_index = sentence.find(match_text, last_index)\n",
    "        if start_index > last_index:\n",
    "            tokens.append(sentence[last_index:start_index])\n",
    "        tokens.append(match_text)\n",
    "        last_index = start_index + len(match_text)\n",
    "    \n",
    "    if last_index < len(sentence):\n",
    "        tokens.append(sentence[last_index:])\n",
    "    \n",
    "    return tokens\n",
    "\n",
    "sentence = \"Please call me at abc@xyz.com before 12/31/2025.\"\n",
    "tokens = greedy_tokenizer(sentence)\n",
    "\n",
    "print(\"Tokenized Sentence:\", tokens)"
   ]
  },
  {
   "cell_type": "code",
   "execution_count": null,
   "metadata": {},
   "outputs": [],
   "source": []
  }
 ],
 "metadata": {
  "kernelspec": {
   "display_name": "Python 3",
   "language": "python",
   "name": "python3"
  },
  "language_info": {
   "codemirror_mode": {
    "name": "ipython",
    "version": 3
   },
   "file_extension": ".py",
   "mimetype": "text/x-python",
   "name": "python",
   "nbconvert_exporter": "python",
   "pygments_lexer": "ipython3",
   "version": "3.12.4"
  }
 },
 "nbformat": 4,
 "nbformat_minor": 2
}
