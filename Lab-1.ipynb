{
 "cells": [
  {
   "cell_type": "markdown",
   "id": "ef7e9a77",
   "metadata": {},
   "source": [
    "## Split sentence into words along spaces"
   ]
  },
  {
   "cell_type": "code",
   "execution_count": 1,
   "id": "5c177486",
   "metadata": {},
   "outputs": [],
   "source": [
    "# import the necessary packages\n",
    "import re"
   ]
  },
  {
   "cell_type": "code",
   "execution_count": 2,
   "id": "4dd6c36e",
   "metadata": {},
   "outputs": [],
   "source": [
    "def split_text(text):\n",
    "    pattern = r'[\\s\\n\\r\\.,;:?!\\'\"()\\[\\]{}]'\n",
    "    words = re.split(pattern, text)\n",
    "    words = [word for word in words if word]\n",
    "    return words"
   ]
  },
  {
   "cell_type": "code",
   "execution_count": 3,
   "id": "0794797a",
   "metadata": {},
   "outputs": [
    {
     "name": "stdout",
     "output_type": "stream",
     "text": [
      "['This', 'example', 'sentence', 'has', 'spaces', 'newlines', 'and', 'punctuation']\n"
     ]
    }
   ],
   "source": [
    "text = \"This example sentence has spaces, newlines, \\n and punctuation !\"\n",
    "words = split_text(text)\n",
    "print(words)"
   ]
  },
  {
   "cell_type": "markdown",
   "id": "d8ab1e72",
   "metadata": {},
   "source": [
    "## DD-MM-YYYY format for dates in a paragraph"
   ]
  },
  {
   "cell_type": "code",
   "execution_count": 6,
   "id": "1e65fa41",
   "metadata": {},
   "outputs": [
    {
     "name": "stdout",
     "output_type": "stream",
     "text": [
      "['25/12/2023', '01/04/2025']\n"
     ]
    }
   ],
   "source": [
    "import re\n",
    "\n",
    "def extract(date):\n",
    "    pattern = r'\\b\\d{2}/\\d{2}/\\d{4}\\b'\n",
    "    return re.findall(pattern, date)\n",
    "text = \"Today's date is 25/12/2023 and the next meeting is scheduled at 01/04/2025\"\n",
    "# dates = re.findall(r'\\b\\d{2}/\\d{2}/\\d{4}\\b', text)\n",
    "dates = extract(text)\n",
    "print(dates)"
   ]
  },
  {
   "cell_type": "markdown",
   "id": "f660814a",
   "metadata": {},
   "source": [
    "## extract phone numbers"
   ]
  },
  {
   "cell_type": "code",
   "execution_count": 7,
   "id": "92ce6464",
   "metadata": {},
   "outputs": [],
   "source": [
    "import re\n",
    "\n",
    "def phone(text):\n",
    "    # pattern = r\"\\b(?:\\+\\d{1,3}[- ]?)?\\(?\\d{3}\\)?[- ]?\\d{3}[- ]?\\d{4}\\b\"\n",
    "    patterns = r\"\\d{3}[-./s]?\\d{3}[-.\\s]?\\d{4}\"\n",
    "    numbers = re.findall(patterns, text, re.VERBOSE)\n",
    "    return numbers"
   ]
  },
  {
   "cell_type": "code",
   "execution_count": 9,
   "id": "aa813e6b",
   "metadata": {},
   "outputs": [
    {
     "name": "stdout",
     "output_type": "stream",
     "text": [
      "['9600000001', '9179013455']\n"
     ]
    }
   ],
   "source": [
    "text = \"contact us at 9600000001 or at +9179013455\"\n",
    "phones = phone(text)\n",
    "print(phones)"
   ]
  }
 ],
 "metadata": {
  "kernelspec": {
   "display_name": "Python 3",
   "language": "python",
   "name": "python3"
  },
  "language_info": {
   "codemirror_mode": {
    "name": "ipython",
    "version": 3
   },
   "file_extension": ".py",
   "mimetype": "text/x-python",
   "name": "python",
   "nbconvert_exporter": "python",
   "pygments_lexer": "ipython3",
   "version": "3.12.4"
  }
 },
 "nbformat": 4,
 "nbformat_minor": 5
}
