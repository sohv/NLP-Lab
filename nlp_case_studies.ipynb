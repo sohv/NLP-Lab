{
  "nbformat": 4,
  "nbformat_minor": 0,
  "metadata": {
    "colab": {
      "provenance": []
    },
    "kernelspec": {
      "name": "python3",
      "display_name": "Python 3"
    },
    "language_info": {
      "name": "python"
    }
  },
  "cells": [
    {
      "cell_type": "markdown",
      "source": [
        "## Case Study 1 : Sentiment Analysis of Tweets"
      ],
      "metadata": {
        "id": "cTpVfMtjvw9a"
      }
    },
    {
      "cell_type": "code",
      "execution_count": 8,
      "metadata": {
        "colab": {
          "base_uri": "https://localhost:8080/"
        },
        "id": "u9XdDYnQvsSN",
        "outputId": "e311112f-c3e2-465e-e0c8-e3dc3d608f2b"
      },
      "outputs": [
        {
          "output_type": "stream",
          "name": "stderr",
          "text": [
            "Device set to use cpu\n"
          ]
        },
        {
          "output_type": "stream",
          "name": "stdout",
          "text": [
            "[{'label': '1 star', 'score': 0.23575624823570251}, {'label': '3 stars', 'score': 0.3096940815448761}, {'label': '3 stars', 'score': 0.2442891150712967}]\n"
          ]
        }
      ],
      "source": [
        "from transformers import BertTokenizer, BertForSequenceClassification, pipeline\n",
        "\n",
        "# Load pre-trained BERT model for sentiment analysis\n",
        "tokenizer = BertTokenizer.from_pretrained(\"bert-base-uncased\")\n",
        "model = BertForSequenceClassification.from_pretrained(\"nlptown/bert-base-multilingual-uncased-sentiment\")\n",
        "sentiment_pipeline = pipeline(\"text-classification\", model=model, tokenizer=tokenizer)\n",
        "\n",
        "def analyze_sentiment(tweets):\n",
        "    return sentiment_pipeline(tweets)\n",
        "\n",
        "tweets = [\"This phone is amazing!\", \"Worst purchase ever.\", \"Battery life is okay, not great.\"]\n",
        "results = analyze_sentiment(tweets)\n",
        "print(results)"
      ]
    },
    {
      "cell_type": "markdown",
      "source": [
        "## Case study 2 : Detection of hate speech in tweets"
      ],
      "metadata": {
        "id": "F6nRYlhZwEPM"
      }
    },
    {
      "cell_type": "code",
      "source": [
        "from transformers import RobertaTokenizer, RobertaForSequenceClassification, pipeline\n",
        "\n",
        "# load pre-trained RoBERTa model\n",
        "tokenizer = RobertaTokenizer.from_pretrained(\"roberta-base\")\n",
        "model = RobertaForSequenceClassification.from_pretrained(\"cardiffnlp/twitter-roberta-base-hate\")\n",
        "hate_speech_pipeline = pipeline(\"text-classification\", model=model, tokenizer=tokenizer)\n",
        "\n",
        "def detect_hate_speech(tweets):\n",
        "    return hate_speech_pipeline(tweets)\n",
        "\n",
        "tweets = [\"I hate this group of people!\", \"Everyone deserves respect.\", \"Some jokes go too far.\"]\n",
        "results = detect_hate_speech(tweets)\n",
        "print(results)"
      ],
      "metadata": {
        "colab": {
          "base_uri": "https://localhost:8080/"
        },
        "id": "75WArlEQv_4z",
        "outputId": "ba9d0ab0-9825-4f1d-926f-c791fc0322ff"
      },
      "execution_count": 9,
      "outputs": [
        {
          "output_type": "stream",
          "name": "stderr",
          "text": [
            "Device set to use cpu\n"
          ]
        },
        {
          "output_type": "stream",
          "name": "stdout",
          "text": [
            "[{'label': 'non-hate', 'score': 0.920874834060669}, {'label': 'non-hate', 'score': 0.9361074566841125}, {'label': 'non-hate', 'score': 0.9054985046386719}]\n"
          ]
        }
      ]
    },
    {
      "cell_type": "code",
      "source": [
        "from transformers import pipeline\n",
        "\n",
        "def detect_hate_speech(tweets):\n",
        "    classifier = pipeline(\"text-classification\", model=\"unitary/unbiased-toxic-roberta\")\n",
        "    results = classifier(tweets)\n",
        "    return results\n",
        "\n",
        "tweets = [\n",
        "    \"I believe in equality for everyone.\",\n",
        "    \"Women belong in the kitchen!\",\n",
        "    \"All races should be treated with respect.\",\n",
        "    \"I hate people of a certain ethnicity.\"\n",
        "]\n",
        "results = detect_hate_speech(tweets)\n",
        "\n",
        "for tweet, result in zip(tweets, results):\n",
        "    print(f\"Tweet: {tweet}\\nPrediction: {result['label']} (Score: {result['score']:.2f})\\n\")"
      ],
      "metadata": {
        "colab": {
          "base_uri": "https://localhost:8080/"
        },
        "id": "04OJUxOTwc4A",
        "outputId": "81f9cfae-d53e-4a56-b914-3aea1a9abc30"
      },
      "execution_count": 13,
      "outputs": [
        {
          "output_type": "stream",
          "name": "stderr",
          "text": [
            "Device set to use cpu\n"
          ]
        },
        {
          "output_type": "stream",
          "name": "stdout",
          "text": [
            "Tweet: I believe in equality for everyone.\n",
            "Prediction: toxicity (Score: 0.00)\n",
            "\n",
            "Tweet: Women belong in the kitchen!\n",
            "Prediction: female (Score: 1.00)\n",
            "\n",
            "Tweet: All races should be treated with respect.\n",
            "Prediction: toxicity (Score: 0.33)\n",
            "\n",
            "Tweet: I hate people of a certain ethnicity.\n",
            "Prediction: toxicity (Score: 0.81)\n",
            "\n"
          ]
        }
      ]
    },
    {
      "cell_type": "code",
      "source": [],
      "metadata": {
        "id": "oIuBNsOeyYMQ"
      },
      "execution_count": null,
      "outputs": []
    }
  ]
}